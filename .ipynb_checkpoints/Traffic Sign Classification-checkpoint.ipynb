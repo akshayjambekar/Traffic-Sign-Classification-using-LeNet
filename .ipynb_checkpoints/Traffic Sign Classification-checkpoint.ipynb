{
 "cells": [
  {
   "cell_type": "markdown",
   "id": "85e6628d",
   "metadata": {},
   "source": [
    "## Problem Statement"
   ]
  },
  {
   "cell_type": "markdown",
   "id": "c45c22d9",
   "metadata": {},
   "source": [
    "Traffic sign classification is an important task for self driving cars.\n",
    "\n",
    "In this project, a Deep Network known as LeNet will be used for traffic sign images classification.\n",
    "\n",
    "The dataset contains 43 different classes of images. \n",
    "\n",
    "Classes are as listed below: \n",
    "\n",
    ". ( 0, b'Speed limit (20km/h)') ( 1, b'Speed limit (30km/h)') ( 2, b'Speed limit (50km/h)') ( 3, b'Speed limit (60km/h)') ( 4, b'Speed limit (70km/h)') \n",
    "( 5, b'Speed limit (80km/h)') ( 6, b'End of speed limit (80km/h)') ( 7, b'Speed limit (100km/h)') ( 8, b'Speed limit (120km/h)') ( 9, b'No passing') \n",
    "(10, b'No passing for vehicles over 3.5 metric tons') (11, b'Right-of-way at the next intersection') (12, b'Priority road') (13, b'Yield') (14, b'Stop') \n",
    "(15, b'No vehicles') (16, b'Vehicles over 3.5 metric tons prohibited') (17, b'No entry')\n",
    "(18, b'General caution') (19, b'Dangerous curve to the left')\n",
    "(20, b'Dangerous curve to the right') (21, b'Double curve')\n",
    "(22, b'Bumpy road') (23, b'Slippery road')\n",
    "(24, b'Road narrows on the right') (25, b'Road work')\n",
    "(26, b'Traffic signals') (27, b'Pedestrians') (28, b'Children crossing')\n",
    "(29, b'Bicycles crossing') (30, b'Beware of ice/snow')\n",
    "(31, b'Wild animals crossing')\n",
    "(32, b'End of all speed and passing limits') (33, b'Turn right ahead')\n",
    "(34, b'Turn left ahead') (35, b'Ahead only') (36, b'Go straight or right')\n",
    "(37, b'Go straight or left') (38, b'Keep right') (39, b'Keep left')\n",
    "(40, b'Roundabout mandatory') (41, b'End of no passing')\n",
    "(42, b'End of no passing by vehicles over 3.5 metric tons')\n"
   ]
  },
  {
   "cell_type": "markdown",
   "id": "5ce7071b",
   "metadata": {},
   "source": [
    "## Load Data"
   ]
  },
  {
   "cell_type": "code",
   "execution_count": 2,
   "id": "95d319a2",
   "metadata": {},
   "outputs": [],
   "source": [
    "import pandas as pd\n",
    "import numpy as np\n",
    "import matplotlib.pyplot as plt\n",
    "import seaborn as sns\n",
    "import pickle"
   ]
  },
  {
   "cell_type": "code",
   "execution_count": null,
   "id": "a2f3d803",
   "metadata": {},
   "outputs": [],
   "source": []
  }
 ],
 "metadata": {
  "kernelspec": {
   "display_name": "Python 3 (ipykernel)",
   "language": "python",
   "name": "python3"
  },
  "language_info": {
   "codemirror_mode": {
    "name": "ipython",
    "version": 3
   },
   "file_extension": ".py",
   "mimetype": "text/x-python",
   "name": "python",
   "nbconvert_exporter": "python",
   "pygments_lexer": "ipython3",
   "version": "3.11.5"
  }
 },
 "nbformat": 4,
 "nbformat_minor": 5
}
